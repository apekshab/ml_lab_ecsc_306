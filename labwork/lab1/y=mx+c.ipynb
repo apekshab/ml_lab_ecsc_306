{
 "cells": [
  {
   "cell_type": "markdown",
   "metadata": {},
   "source": [
    "# PART A\n",
    "# Reading the arrays x and y"
   ]
  },
  {
   "cell_type": "code",
   "execution_count": 63,
   "metadata": {},
   "outputs": [
    {
     "name": "stdout",
     "output_type": "stream",
     "text": [
      "[ 1.10000002  3.5         4.9000001   5.          7.9000001 ]\n",
      "[  2.29999995   7.80000019   6.9000001   12.80000019  26.5       ]\n"
     ]
    }
   ],
   "source": [
    "import tensorflow as tf\n",
    "\n",
    "x=tf.constant([1.1,3.5,4.9,5,7.9])\n",
    "y=tf.constant([2.3,7.8,6.9,12.8,26.5])\n",
    "#predict_y=[]\n",
    "\n",
    "store = tf.global_variables_initializer()\n",
    "\n",
    "with tf.Session() as session:\n",
    "    session.run(store)\n",
    "    print(session.run(x))\n",
    "with tf.Session() as session:\n",
    "    session.run(store)\n",
    "    print(session.run(y))\n",
    "    "
   ]
  },
  {
   "cell_type": "markdown",
   "metadata": {},
   "source": [
    "# Mean of x and y"
   ]
  },
  {
   "cell_type": "code",
   "execution_count": 58,
   "metadata": {},
   "outputs": [
    {
     "name": "stdout",
     "output_type": "stream",
     "text": [
      "4.48\n",
      "11.26\n"
     ]
    }
   ],
   "source": [
    "import tensorflow as tf\n",
    "\n",
    "with tf.name_scope(\"mean_of_x\"):\n",
    "    array_x=tf.constant([1.1,3.5,4.9,5,7.9],name='array_x')\n",
    "    array_y=tf.constant([2.3,7.8,6.9,12.8,26.5],name='array_y')\n",
    "    mean_of_x=tf.reduce_mean(array_x)\n",
    "    sess=tf.Session()\n",
    "print(sess.run(mean_of_x))\n",
    "with tf.name_scope(\"mean_of_y\"):\n",
    "    mean_of_y=tf.reduce_mean(array_y)\n",
    "    sess=tf.Session()\n",
    "    print(sess.run(mean_of_y))\n"
   ]
  },
  {
   "cell_type": "markdown",
   "metadata": {},
   "source": [
    "# Variance of x"
   ]
  },
  {
   "cell_type": "code",
   "execution_count": 59,
   "metadata": {},
   "outputs": [
    {
     "name": "stdout",
     "output_type": "stream",
     "text": [
      "[-3.38000011 -0.98000002  0.42000008  0.51999998  3.42000008]\n",
      "4.9056\n"
     ]
    }
   ],
   "source": [
    "d=tf.subtract(array_x,mean_of_x)\n",
    "sess=tf.Session()\n",
    "print(sess.run(d))\n",
    "\n",
    "e=tf.square(d)\n",
    "variance=tf.reduce_mean(e)\n",
    "sess=tf.Session()\n",
    "print(sess.run(variance))\n"
   ]
  },
  {
   "cell_type": "markdown",
   "metadata": {},
   "source": [
    "# Covariance of x and y"
   ]
  },
  {
   "cell_type": "code",
   "execution_count": 60,
   "metadata": {},
   "outputs": [
    {
     "name": "stdout",
     "output_type": "stream",
     "text": [
      "16.9532\n"
     ]
    }
   ],
   "source": [
    "with tf.name_scope(\"co-variance\"):\n",
    "    g=tf.subtract(array_y,mean_of_y)\n",
    "    sess=tf.Session()\n",
    "    g=tf.multiply(d,g)\n",
    "    cov=tf.reduce_mean(g)\n",
    "    print(sess.run(cov))\n"
   ]
  },
  {
   "cell_type": "markdown",
   "metadata": {},
   "source": [
    "# Value of m"
   ]
  },
  {
   "cell_type": "code",
   "execution_count": 61,
   "metadata": {},
   "outputs": [
    {
     "name": "stdout",
     "output_type": "stream",
     "text": [
      "3.45589\n"
     ]
    }
   ],
   "source": [
    "with tf.name_scope(\"value_of_m\"):\n",
    "    m=tf.divide(cov,variance)\n",
    "    print(sess.run(m))"
   ]
  },
  {
   "cell_type": "markdown",
   "metadata": {},
   "source": [
    "# Value of c"
   ]
  },
  {
   "cell_type": "code",
   "execution_count": 62,
   "metadata": {},
   "outputs": [
    {
     "name": "stdout",
     "output_type": "stream",
     "text": [
      "-4.22237\n"
     ]
    }
   ],
   "source": [
    "with tf.name_scope(\"value_of_c\"):\n",
    "    i=tf.multiply(m,mean_of_x)\n",
    "    k=tf.subtract(mean_of_y,i)\n",
    "    print(sess.run(k))"
   ]
  }
 ],
 "metadata": {
  "kernelspec": {
   "display_name": "Python 3",
   "language": "python",
   "name": "python3"
  },
  "language_info": {
   "codemirror_mode": {
    "name": "ipython",
    "version": 3
   },
   "file_extension": ".py",
   "mimetype": "text/x-python",
   "name": "python",
   "nbconvert_exporter": "python",
   "pygments_lexer": "ipython3",
   "version": "3.6.1"
  }
 },
 "nbformat": 4,
 "nbformat_minor": 2
}
