{
 "cells": [
  {
   "cell_type": "markdown",
   "metadata": {},
   "source": [
    "## Program for (a+b)^2=a^2+b^2+2ab "
   ]
  },
  {
   "cell_type": "code",
   "execution_count": 2,
   "metadata": {},
   "outputs": [
    {
     "name": "stdout",
     "output_type": "stream",
     "text": [
      "49\n"
     ]
    }
   ],
   "source": [
    "import tensorflow as tf\n",
    "a=tf.constant(3)\n",
    "b=tf.constant(4)\n",
    "with tf.name_scope(\"MyOperationGroup\"):\n",
    "        with tf.name_scope(\"Scope_A\"):\n",
    "            c=tf.multiply(a,a,name=\"9_constant_squared\")\n",
    "            d=tf.multiply(b,b,name=\"16_constant_squared\")\n",
    "with tf.name_scope(\"Scope_B\"):\n",
    "    e=tf.add(c,d,name=\"25_Addition_is_performed\")\n",
    "    f=tf.multiply(a,b,name=\"12_Multiplication_is_performed\")\n",
    "with tf.name_scope(\"Scope_C\"):\n",
    "    g=tf.multiply(2,f,name=\"24_Multiplication_is_performed\")\n",
    "i=tf.add(e,g,name=\"49_Final_Ans\")\n",
    "\n",
    "with tf.Session() as sess:\n",
    "    writer = tf.summary.FileWriter(\"/tmp/tboard/output10\",sess.graph)\n",
    "    print(sess.run(i))\n",
    "    writer.close()"
   ]
  },
  {
   "cell_type": "markdown",
   "metadata": {},
   "source": [
    "## Program for (a+b+c)^2=a^2+b^2+c^2+2ab+2bc+2ca"
   ]
  },
  {
   "cell_type": "code",
   "execution_count": 1,
   "metadata": {},
   "outputs": [
    {
     "name": "stdout",
     "output_type": "stream",
     "text": [
      "36\n"
     ]
    }
   ],
   "source": [
    "import tensorflow as tf\n",
    "a=tf.constant(1)\n",
    "b=tf.constant(2)\n",
    "c=tf.constant(3)\n",
    "with tf.name_scope(\"MyOperationGroup\"):\n",
    "        with tf.name_scope(\"Scope_A\"):\n",
    "            d=tf.multiply(a,a,name=\"1_constant_squared\")\n",
    "            e=tf.multiply(b,b,name=\"4_constant1_squared\")\n",
    "            f=tf.multiply(c,c,name=\"9_constant2_squared\")\n",
    "with tf.name_scope(\"Scope_B\"):\n",
    "    g=tf.add(d,e,name=\"5_Addition_is_performed\")\n",
    "    h=tf.add(f,g,name=\"14_Addition\")\n",
    "with tf.name_scope(\"Scope_C\"):\n",
    "    i=tf.multiply(a,b,name=\"2_Multiplication_is_performed\")\n",
    "    j=tf.multiply(2,i,name=\"4_Multiplication_is_performed\")\n",
    "with tf.name_scope(\"Scope_D\"):\n",
    "    k=tf.multiply(b,c,name=\"6_Multiplication_is_performed\")\n",
    "    l=tf.multiply(2,k,name=\"12_Multiplication_is_performed\")\n",
    "with tf.name_scope(\"Scope_E\"):\n",
    "    m=tf.multiply(c,a,name=\"3_Multiplication_is_performed\")\n",
    "    n=tf.multiply(2,m,name=\"6_Multiplication_is_performed\")    \n",
    "o=tf.add(j,l,name=\"16_Addition_is_performed\")   \n",
    "p=tf.add(n,o,name=\"22_Addition_is_performed\")    \n",
    "q=tf.add(h,p,name=\"36_Final_Answer\")\n",
    " \n",
    "with tf.Session() as sess:\n",
    "    writer = tf.summary.FileWriter(\"/tmp/tboard/output9\",sess.graph)\n",
    "    print(sess.run(q))\n",
    "    writer.close()"
   ]
  },
  {
   "cell_type": "code",
   "execution_count": null,
   "metadata": {
    "collapsed": true
   },
   "outputs": [],
   "source": []
  }
 ],
 "metadata": {
  "kernelspec": {
   "display_name": "Python 3",
   "language": "python",
   "name": "python3"
  },
  "language_info": {
   "codemirror_mode": {
    "name": "ipython",
    "version": 3
   },
   "file_extension": ".py",
   "mimetype": "text/x-python",
   "name": "python",
   "nbconvert_exporter": "python",
   "pygments_lexer": "ipython3",
   "version": "3.6.2"
  }
 },
 "nbformat": 4,
 "nbformat_minor": 2
}
